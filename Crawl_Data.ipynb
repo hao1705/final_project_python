{
 "cells": [
  {
   "cell_type": "markdown",
   "metadata": {},
   "source": [
    "# Facebook Data Crawling\n",
    "In this notebook, we will be crawling data from Facebook using the Facebook Graph API. We will be using the facebook-scraper"
   ]
  },
  {
   "cell_type": "markdown",
   "metadata": {},
   "source": [
    "## Install the required library\n",
    "We will be using the facebook-scraper library to crawl data from Facebook. We will install this library using pip."
   ]
  },
  {
   "cell_type": "code",
   "execution_count": 20,
   "metadata": {},
   "outputs": [
    {
     "name": "stdout",
     "output_type": "stream",
     "text": [
      "Requirement already satisfied: facebook_scraper in c:\\users\\hao17\\appdata\\local\\programs\\python\\python311\\lib\\site-packages (0.2.59)\n",
      "Requirement already satisfied: dateparser<2.0.0,>=1.0.0 in c:\\users\\hao17\\appdata\\local\\programs\\python\\python311\\lib\\site-packages (from facebook_scraper) (1.1.8)\n",
      "Requirement already satisfied: demjson3<4.0.0,>=3.0.5 in c:\\users\\hao17\\appdata\\local\\programs\\python\\python311\\lib\\site-packages (from facebook_scraper) (3.0.6)\n",
      "Requirement already satisfied: requests-html<0.11.0,>=0.10.0 in c:\\users\\hao17\\appdata\\local\\programs\\python\\python311\\lib\\site-packages (from facebook_scraper) (0.10.0)\n",
      "Requirement already satisfied: python-dateutil in c:\\users\\hao17\\appdata\\roaming\\python\\python311\\site-packages (from dateparser<2.0.0,>=1.0.0->facebook_scraper) (2.8.2)\n",
      "Requirement already satisfied: pytz in c:\\users\\hao17\\appdata\\local\\programs\\python\\python311\\lib\\site-packages (from dateparser<2.0.0,>=1.0.0->facebook_scraper) (2023.3.post1)\n",
      "Requirement already satisfied: regex!=2019.02.19,!=2021.8.27 in c:\\users\\hao17\\appdata\\local\\programs\\python\\python311\\lib\\site-packages (from dateparser<2.0.0,>=1.0.0->facebook_scraper) (2023.10.3)\n",
      "Requirement already satisfied: tzlocal in c:\\users\\hao17\\appdata\\local\\programs\\python\\python311\\lib\\site-packages (from dateparser<2.0.0,>=1.0.0->facebook_scraper) (5.2)\n",
      "Requirement already satisfied: requests in c:\\users\\hao17\\appdata\\local\\programs\\python\\python311\\lib\\site-packages (from requests-html<0.11.0,>=0.10.0->facebook_scraper) (2.31.0)\n",
      "Requirement already satisfied: pyquery in c:\\users\\hao17\\appdata\\local\\programs\\python\\python311\\lib\\site-packages (from requests-html<0.11.0,>=0.10.0->facebook_scraper) (2.0.0)\n",
      "Requirement already satisfied: fake-useragent in c:\\users\\hao17\\appdata\\local\\programs\\python\\python311\\lib\\site-packages (from requests-html<0.11.0,>=0.10.0->facebook_scraper) (1.3.0)\n",
      "Requirement already satisfied: parse in c:\\users\\hao17\\appdata\\local\\programs\\python\\python311\\lib\\site-packages (from requests-html<0.11.0,>=0.10.0->facebook_scraper) (1.19.1)\n",
      "Requirement already satisfied: bs4 in c:\\users\\hao17\\appdata\\local\\programs\\python\\python311\\lib\\site-packages (from requests-html<0.11.0,>=0.10.0->facebook_scraper) (0.0.1)\n",
      "Requirement already satisfied: w3lib in c:\\users\\hao17\\appdata\\local\\programs\\python\\python311\\lib\\site-packages (from requests-html<0.11.0,>=0.10.0->facebook_scraper) (2.1.2)\n",
      "Requirement already satisfied: pyppeteer>=0.0.14 in c:\\users\\hao17\\appdata\\local\\programs\\python\\python311\\lib\\site-packages (from requests-html<0.11.0,>=0.10.0->facebook_scraper) (1.0.2)\n",
      "Requirement already satisfied: appdirs<2.0.0,>=1.4.3 in c:\\users\\hao17\\appdata\\local\\programs\\python\\python311\\lib\\site-packages (from pyppeteer>=0.0.14->requests-html<0.11.0,>=0.10.0->facebook_scraper) (1.4.4)\n",
      "Requirement already satisfied: certifi>=2021 in c:\\users\\hao17\\appdata\\local\\programs\\python\\python311\\lib\\site-packages (from pyppeteer>=0.0.14->requests-html<0.11.0,>=0.10.0->facebook_scraper) (2023.7.22)\n",
      "Requirement already satisfied: importlib-metadata>=1.4 in c:\\users\\hao17\\appdata\\local\\programs\\python\\python311\\lib\\site-packages (from pyppeteer>=0.0.14->requests-html<0.11.0,>=0.10.0->facebook_scraper) (6.8.0)\n",
      "Requirement already satisfied: pyee<9.0.0,>=8.1.0 in c:\\users\\hao17\\appdata\\local\\programs\\python\\python311\\lib\\site-packages (from pyppeteer>=0.0.14->requests-html<0.11.0,>=0.10.0->facebook_scraper) (8.2.2)\n",
      "Requirement already satisfied: tqdm<5.0.0,>=4.42.1 in c:\\users\\hao17\\appdata\\local\\programs\\python\\python311\\lib\\site-packages (from pyppeteer>=0.0.14->requests-html<0.11.0,>=0.10.0->facebook_scraper) (4.66.1)\n",
      "Requirement already satisfied: urllib3<2.0.0,>=1.25.8 in c:\\users\\hao17\\appdata\\local\\programs\\python\\python311\\lib\\site-packages (from pyppeteer>=0.0.14->requests-html<0.11.0,>=0.10.0->facebook_scraper) (1.26.18)\n",
      "Requirement already satisfied: websockets<11.0,>=10.0 in c:\\users\\hao17\\appdata\\local\\programs\\python\\python311\\lib\\site-packages (from pyppeteer>=0.0.14->requests-html<0.11.0,>=0.10.0->facebook_scraper) (10.4)\n",
      "Requirement already satisfied: beautifulsoup4 in c:\\users\\hao17\\appdata\\local\\programs\\python\\python311\\lib\\site-packages (from bs4->requests-html<0.11.0,>=0.10.0->facebook_scraper) (4.12.2)\n",
      "Requirement already satisfied: lxml>=2.1 in c:\\users\\hao17\\appdata\\local\\programs\\python\\python311\\lib\\site-packages (from pyquery->requests-html<0.11.0,>=0.10.0->facebook_scraper) (4.9.3)\n",
      "Requirement already satisfied: cssselect>=1.2.0 in c:\\users\\hao17\\appdata\\local\\programs\\python\\python311\\lib\\site-packages (from pyquery->requests-html<0.11.0,>=0.10.0->facebook_scraper) (1.2.0)\n",
      "Requirement already satisfied: six>=1.5 in c:\\users\\hao17\\appdata\\roaming\\python\\python311\\site-packages (from python-dateutil->dateparser<2.0.0,>=1.0.0->facebook_scraper) (1.16.0)\n",
      "Requirement already satisfied: charset-normalizer<4,>=2 in c:\\users\\hao17\\appdata\\local\\programs\\python\\python311\\lib\\site-packages (from requests->requests-html<0.11.0,>=0.10.0->facebook_scraper) (3.2.0)\n",
      "Requirement already satisfied: idna<4,>=2.5 in c:\\users\\hao17\\appdata\\local\\programs\\python\\python311\\lib\\site-packages (from requests->requests-html<0.11.0,>=0.10.0->facebook_scraper) (3.4)\n",
      "Requirement already satisfied: tzdata in c:\\users\\hao17\\appdata\\local\\programs\\python\\python311\\lib\\site-packages (from tzlocal->dateparser<2.0.0,>=1.0.0->facebook_scraper) (2023.3)\n",
      "Requirement already satisfied: zipp>=0.5 in c:\\users\\hao17\\appdata\\local\\programs\\python\\python311\\lib\\site-packages (from importlib-metadata>=1.4->pyppeteer>=0.0.14->requests-html<0.11.0,>=0.10.0->facebook_scraper) (3.17.0)\n",
      "Requirement already satisfied: colorama in c:\\users\\hao17\\appdata\\roaming\\python\\python311\\site-packages (from tqdm<5.0.0,>=4.42.1->pyppeteer>=0.0.14->requests-html<0.11.0,>=0.10.0->facebook_scraper) (0.4.6)\n",
      "Requirement already satisfied: soupsieve>1.2 in c:\\users\\hao17\\appdata\\local\\programs\\python\\python311\\lib\\site-packages (from beautifulsoup4->bs4->requests-html<0.11.0,>=0.10.0->facebook_scraper) (2.5)\n",
      "Note: you may need to restart the kernel to use updated packages.\n"
     ]
    },
    {
     "name": "stderr",
     "output_type": "stream",
     "text": [
      "\n",
      "[notice] A new release of pip is available: 23.2.1 -> 23.3.1\n",
      "[notice] To update, run: python.exe -m pip install --upgrade pip\n"
     ]
    }
   ],
   "source": [
    "%pip install facebook_scraper"
   ]
  },
  {
   "cell_type": "code",
   "execution_count": 21,
   "metadata": {},
   "outputs": [],
   "source": [
    "from facebook_scraper import get_posts\n",
    "import pandas as pd\n",
    "import matplotlib.pyplot as plt\n",
    "import seaborn as sns"
   ]
  },
  {
   "cell_type": "markdown",
   "metadata": {},
   "source": [
    "## Crawl the data using facebook_scraper\n",
    "Now we can get the data from Facebook using the facebook_scraper library. We will be using the get_posts function to get the posts from the fanpage. This function will return a list of dictionaries, where each dictionary represents a post. We will be saving this list of dictionaries to a json file. More information about what you can do with the facebook_scraper library can be found here: https://github.com/kevinzg/facebook-scraper"
   ]
  },
  {
   "cell_type": "markdown",
   "metadata": {},
   "source": [
    "## Define variables\n",
    "First we have to define some variables that we will be using throughout the notebook. \n",
    "- FANPAGE_LINK: The link to the fanpage that we want to crawl data from. This can be found by going to the fanpage and copying the link from the address bar. For example, the link to the fanpage of the [Nintendo Switch](https://www.facebook.com/NintendoSwitch/) is https://www.facebook.com/NintendoSwitch/. We will be using this link as the value for FANPAGE_LINK.\n",
    "\n",
    "- COOKIE_PATH: The path to the cookie file that we will be using to authenticate with Facebook. This cookie file can be obtained by logging into Facebook and copying the cookie from the browser. For example, in Chromium, use extension [Get cookies.txt LOCALLY](https://chrome.google.com/webstore/detail/get-cookiestxt/bgaddhkoddajcdgocldbbfleckgcbcid) to get the cookie file. Then save the cookie to a file and use the path to this file as the value for COOKIE_PATH. <span style=\"color:red; font-weight:bold\">USE COOKIE FROM A FAKE ACCOUNT, OTHERWISE YOUR REAL ACCOUNT MIGHT GET BANNED.</span>.\n",
    "\n",
    "\n",
    "- FOLDER_NAME: The name of the folder that we will be saving the data to. This folder will be created in the same directory as this notebook."
   ]
  },
  {
   "cell_type": "code",
   "execution_count": 25,
   "metadata": {},
   "outputs": [],
   "source": [
    "FANPAGE_LINK =\"maythecoffeebewithyou\"\n",
    "FOLDER_PATH = \"Data/\"\n",
    "COOKIE_PATH = \"./cookies.txt\"\n",
    "\n",
    "PAGES_NUMBER = 10 # Number of pages to crawl"
   ]
  },
  {
   "cell_type": "code",
   "execution_count": 26,
   "metadata": {},
   "outputs": [],
   "source": [
    "from facebook_scraper import get_posts\n",
    "import pandas as pd"
   ]
  },
  {
   "cell_type": "code",
   "execution_count": 27,
   "metadata": {},
   "outputs": [],
   "source": [
    "post_list = []\n",
    "for post in get_posts(FANPAGE_LINK,\n",
    "                    options={\"comments\": True, \"reactions\": True, \"allow_extra_requests\": True},\n",
    "                    extra_info=True, pages=PAGES_NUMBER, cookies=COOKIE_PATH):\n",
    "    print(post)\n",
    "    post_list.append(post)"
   ]
  },
  {
   "cell_type": "code",
   "execution_count": 16,
   "metadata": {},
   "outputs": [
    {
     "data": {
      "text/plain": [
       "0"
      ]
     },
     "execution_count": 16,
     "metadata": {},
     "output_type": "execute_result"
    }
   ],
   "source": [
    "len(post_list)"
   ]
  },
  {
   "cell_type": "code",
   "execution_count": 16,
   "metadata": {},
   "outputs": [
    {
     "ename": "IndexError",
     "evalue": "list index out of range",
     "output_type": "error",
     "traceback": [
      "\u001b[1;31m---------------------------------------------------------------------------\u001b[0m",
      "\u001b[1;31mIndexError\u001b[0m                                Traceback (most recent call last)",
      "\u001b[1;32mc:\\Users\\hao17\\github-classroom\\IAI-UET\\final-project-hao1705\\Crawl_Data.ipynb Cell 11\u001b[0m line \u001b[0;36m1\n\u001b[1;32m----> <a href='vscode-notebook-cell:/c%3A/Users/hao17/github-classroom/IAI-UET/final-project-hao1705/Crawl_Data.ipynb#X13sZmlsZQ%3D%3D?line=0'>1</a>\u001b[0m post_list[\u001b[39m0\u001b[39;49m]\n",
      "\u001b[1;31mIndexError\u001b[0m: list index out of range"
     ]
    }
   ],
   "source": [
    "post_list[0]"
   ]
  },
  {
   "cell_type": "code",
   "execution_count": null,
   "metadata": {},
   "outputs": [
    {
     "name": "stdout",
     "output_type": "stream",
     "text": [
      "<class 'dict'>\n"
     ]
    },
    {
     "data": {
      "text/plain": [
       "dict_keys(['post_id', 'text', 'post_text', 'shared_text', 'original_text', 'time', 'timestamp', 'image', 'image_lowquality', 'images', 'images_description', 'images_lowquality', 'images_lowquality_description', 'video', 'video_duration_seconds', 'video_height', 'video_id', 'video_quality', 'video_size_MB', 'video_thumbnail', 'video_watches', 'video_width', 'likes', 'comments', 'shares', 'post_url', 'link', 'links', 'user_id', 'username', 'user_url', 'is_live', 'factcheck', 'shared_post_id', 'shared_time', 'shared_user_id', 'shared_username', 'shared_post_url', 'available', 'comments_full', 'reactors', 'w3_fb_url', 'reactions', 'reaction_count', 'with', 'page_id', 'sharers', 'image_id', 'image_ids', 'was_live', 'fetched_time'])"
      ]
     },
     "execution_count": 22,
     "metadata": {},
     "output_type": "execute_result"
    }
   ],
   "source": [
    "print(type(post_list[0]))\n",
    "x = post_list[0].keys()\n",
    "x"
   ]
  },
  {
   "cell_type": "markdown",
   "metadata": {},
   "source": [
    "dict_keys(['post_id', 'text', 'post_text', 'shared_text', 'original_text', 'time', 'timestamp', 'image', 'image_lowquality', 'images', 'images_description', 'images_lowquality', 'images_lowquality_description', 'video', 'video_duration_seconds', 'video_height', 'video_id', 'video_quality', 'video_size_MB', 'video_thumbnail', 'video_watches', 'video_width', 'likes', 'comments', 'shares', 'post_url', 'link', 'links', 'user_id', 'username', 'user_url', 'is_live', 'factcheck', 'shared_post_id', 'shared_time', 'shared_user_id', 'shared_username', 'shared_post_url', 'available', 'comments_full', 'reactors', 'w3_fb_url', 'reactions', 'reaction_count', 'with', 'page_id', 'sharers', 'image_id', 'image_ids', 'was_live', 'fetched_time'])"
   ]
  },
  {
   "cell_type": "markdown",
   "metadata": {},
   "source": [
    "## Convert list of dicts to df"
   ]
  },
  {
   "cell_type": "markdown",
   "metadata": {},
   "source": [
    "Now we can convert the list of dictionaries to a pandas dataframe. We will be using the pandas library to do this. We will also be saving the dataframe to a xlxs or csv file."
   ]
  },
  {
   "cell_type": "code",
   "execution_count": null,
   "metadata": {},
   "outputs": [],
   "source": [
    "# Initialize dataframe to scrape Facebook post\n",
    "post_df_full = pd.DataFrame(columns=post_list[0].keys(), index=range(len(post_list)), data=post_list)"
   ]
  },
  {
   "cell_type": "code",
   "execution_count": null,
   "metadata": {},
   "outputs": [
    {
     "name": "stdout",
     "output_type": "stream",
     "text": [
      "Data/maythecoffeebewithyou\n"
     ]
    }
   ],
   "source": [
    "\n",
    "\n",
    "# To df\n",
    "path=FOLDER_PATH + FANPAGE_LINK\n",
    "post_df_full.to_csv(path + \".csv\", index=False)\n",
    "#post_df_full.to_numpy('Data\\maythecoffeebewithyou.npy')\n",
    "print(path)"
   ]
  },
  {
   "cell_type": "code",
   "execution_count": null,
   "metadata": {},
   "outputs": [],
   "source": [
    "# importing library\n",
    "import numpy as np\n",
    "# converting list to array\n",
    "arr = np.array(post_list)"
   ]
  },
  {
   "cell_type": "code",
   "execution_count": null,
   "metadata": {},
   "outputs": [
    {
     "name": "stdout",
     "output_type": "stream",
     "text": [
      "Data/maythecoffeebewithyou.npy\n"
     ]
    }
   ],
   "source": [
    "path1=FOLDER_PATH + FANPAGE_LINK + \".npy\"\n",
    "np.save(path1, arr)    # .npy extension is added if not given\n",
    "print(path1)"
   ]
  },
  {
   "cell_type": "code",
   "execution_count": null,
   "metadata": {},
   "outputs": [
    {
     "data": {
      "text/html": [
       "<div>\n",
       "<style scoped>\n",
       "    .dataframe tbody tr th:only-of-type {\n",
       "        vertical-align: middle;\n",
       "    }\n",
       "\n",
       "    .dataframe tbody tr th {\n",
       "        vertical-align: top;\n",
       "    }\n",
       "\n",
       "    .dataframe thead th {\n",
       "        text-align: right;\n",
       "    }\n",
       "</style>\n",
       "<table border=\"1\" class=\"dataframe\">\n",
       "  <thead>\n",
       "    <tr style=\"text-align: right;\">\n",
       "      <th></th>\n",
       "      <th>post_id</th>\n",
       "      <th>text</th>\n",
       "      <th>post_text</th>\n",
       "      <th>shared_text</th>\n",
       "      <th>original_text</th>\n",
       "      <th>time</th>\n",
       "      <th>timestamp</th>\n",
       "      <th>image</th>\n",
       "      <th>image_lowquality</th>\n",
       "      <th>images</th>\n",
       "      <th>...</th>\n",
       "      <th>w3_fb_url</th>\n",
       "      <th>reactions</th>\n",
       "      <th>reaction_count</th>\n",
       "      <th>with</th>\n",
       "      <th>page_id</th>\n",
       "      <th>sharers</th>\n",
       "      <th>image_id</th>\n",
       "      <th>image_ids</th>\n",
       "      <th>was_live</th>\n",
       "      <th>fetched_time</th>\n",
       "    </tr>\n",
       "  </thead>\n",
       "  <tbody>\n",
       "    <tr>\n",
       "      <th>0</th>\n",
       "      <td>881937446740787</td>\n",
       "      <td>Java, West of Krakatoa</td>\n",
       "      <td>Java, West of Krakatoa</td>\n",
       "      <td></td>\n",
       "      <td>None</td>\n",
       "      <td>2023-12-01 10:19:04</td>\n",
       "      <td>1701400744</td>\n",
       "      <td>https://m.facebook.com/photo/view_full_size/?f...</td>\n",
       "      <td>https://scontent.fhan5-6.fna.fbcdn.net/v/t39.3...</td>\n",
       "      <td>[https://m.facebook.com/photo/view_full_size/?...</td>\n",
       "      <td>...</td>\n",
       "      <td>https://www.facebook.com/maythecoffeebewithyou...</td>\n",
       "      <td>{'thích': 40, 'yêu thích': 6, 'haha': 3}</td>\n",
       "      <td>49</td>\n",
       "      <td>None</td>\n",
       "      <td>108356753958620</td>\n",
       "      <td>None</td>\n",
       "      <td>881937433407455</td>\n",
       "      <td>[881937433407455]</td>\n",
       "      <td>False</td>\n",
       "      <td>2023-12-01 11:09:37.830785</td>\n",
       "    </tr>\n",
       "    <tr>\n",
       "      <th>1</th>\n",
       "      <td>881916090076256</td>\n",
       "      <td>How do you prefer your coffee?\\n\\nBạn thích cà...</td>\n",
       "      <td>How do you prefer your coffee?\\n\\nBạn thích cà...</td>\n",
       "      <td></td>\n",
       "      <td>How do you prefer your coffee?</td>\n",
       "      <td>2023-12-01 09:18:11</td>\n",
       "      <td>1701397091</td>\n",
       "      <td>https://m.facebook.com/photo/view_full_size/?f...</td>\n",
       "      <td>https://scontent.fhan5-8.fna.fbcdn.net/v/t39.3...</td>\n",
       "      <td>[https://m.facebook.com/photo/view_full_size/?...</td>\n",
       "      <td>...</td>\n",
       "      <td>https://www.facebook.com/maythecoffeebewithyou...</td>\n",
       "      <td>{'thích': 121, 'yêu thích': 21, 'haha': 45, 't...</td>\n",
       "      <td>188</td>\n",
       "      <td>None</td>\n",
       "      <td>108356753958620</td>\n",
       "      <td>None</td>\n",
       "      <td>881916076742924</td>\n",
       "      <td>[881916076742924]</td>\n",
       "      <td>False</td>\n",
       "      <td>2023-12-01 11:09:41.261109</td>\n",
       "    </tr>\n",
       "    <tr>\n",
       "      <th>2</th>\n",
       "      <td>881893906745141</td>\n",
       "      <td>Stay warm!\\n\\nGiữ ấm nhé!</td>\n",
       "      <td>Stay warm!\\n\\nGiữ ấm nhé!</td>\n",
       "      <td></td>\n",
       "      <td>Stay warm!</td>\n",
       "      <td>2023-12-01 08:12:03</td>\n",
       "      <td>1701393123</td>\n",
       "      <td>https://scontent.fhan5-11.fna.fbcdn.net/v/t39....</td>\n",
       "      <td>https://scontent.fhan5-11.fna.fbcdn.net/v/t39....</td>\n",
       "      <td>[https://scontent.fhan5-11.fna.fbcdn.net/v/t39...</td>\n",
       "      <td>...</td>\n",
       "      <td>https://www.facebook.com/maythecoffeebewithyou...</td>\n",
       "      <td>{'thích': 161, 'yêu thích': 31, 'thương thương...</td>\n",
       "      <td>193</td>\n",
       "      <td>None</td>\n",
       "      <td>108356753958620</td>\n",
       "      <td>None</td>\n",
       "      <td>881893893411809</td>\n",
       "      <td>[881893893411809]</td>\n",
       "      <td>False</td>\n",
       "      <td>2023-12-01 11:09:53.257737</td>\n",
       "    </tr>\n",
       "    <tr>\n",
       "      <th>3</th>\n",
       "      <td>881881576746374</td>\n",
       "      <td>Valid.\\n\\nHợp lệ.</td>\n",
       "      <td>Valid.\\n\\nHợp lệ.</td>\n",
       "      <td></td>\n",
       "      <td>Valid.</td>\n",
       "      <td>2023-12-01 07:34:50</td>\n",
       "      <td>1701390890</td>\n",
       "      <td>https://scontent.fhan5-1.fna.fbcdn.net/v/t39.3...</td>\n",
       "      <td>https://scontent.fhan5-1.fna.fbcdn.net/v/t39.3...</td>\n",
       "      <td>[https://scontent.fhan5-1.fna.fbcdn.net/v/t39....</td>\n",
       "      <td>...</td>\n",
       "      <td>https://www.facebook.com/maythecoffeebewithyou...</td>\n",
       "      <td>{'thích': 690, 'yêu thích': 161, 'haha': 139, ...</td>\n",
       "      <td>999</td>\n",
       "      <td>None</td>\n",
       "      <td>108356753958620</td>\n",
       "      <td>None</td>\n",
       "      <td>881881526746379</td>\n",
       "      <td>[881881526746379]</td>\n",
       "      <td>False</td>\n",
       "      <td>2023-12-01 11:10:05.067799</td>\n",
       "    </tr>\n",
       "    <tr>\n",
       "      <th>4</th>\n",
       "      <td>881863260081539</td>\n",
       "      <td>Isn't that nice? Hmmm?</td>\n",
       "      <td>Isn't that nice? Hmmm?</td>\n",
       "      <td></td>\n",
       "      <td>None</td>\n",
       "      <td>2023-12-01 06:35:31</td>\n",
       "      <td>1701387331</td>\n",
       "      <td>https://scontent.fhan5-11.fna.fbcdn.net/v/t39....</td>\n",
       "      <td>https://scontent.fhan5-11.fna.fbcdn.net/v/t39....</td>\n",
       "      <td>[https://scontent.fhan5-11.fna.fbcdn.net/v/t39...</td>\n",
       "      <td>...</td>\n",
       "      <td>https://www.facebook.com/maythecoffeebewithyou...</td>\n",
       "      <td>{'thích': 282, 'yêu thích': 40, 'haha': 82, 't...</td>\n",
       "      <td>407</td>\n",
       "      <td>None</td>\n",
       "      <td>108356753958620</td>\n",
       "      <td>None</td>\n",
       "      <td>881862436748288</td>\n",
       "      <td>[881862436748288]</td>\n",
       "      <td>False</td>\n",
       "      <td>2023-12-01 11:10:40.203217</td>\n",
       "    </tr>\n",
       "    <tr>\n",
       "      <th>...</th>\n",
       "      <td>...</td>\n",
       "      <td>...</td>\n",
       "      <td>...</td>\n",
       "      <td>...</td>\n",
       "      <td>...</td>\n",
       "      <td>...</td>\n",
       "      <td>...</td>\n",
       "      <td>...</td>\n",
       "      <td>...</td>\n",
       "      <td>...</td>\n",
       "      <td>...</td>\n",
       "      <td>...</td>\n",
       "      <td>...</td>\n",
       "      <td>...</td>\n",
       "      <td>...</td>\n",
       "      <td>...</td>\n",
       "      <td>...</td>\n",
       "      <td>...</td>\n",
       "      <td>...</td>\n",
       "      <td>...</td>\n",
       "      <td>...</td>\n",
       "    </tr>\n",
       "    <tr>\n",
       "      <th>95</th>\n",
       "      <td>877186513882547</td>\n",
       "      <td>hehe</td>\n",
       "      <td>hehe</td>\n",
       "      <td></td>\n",
       "      <td>None</td>\n",
       "      <td>2023-11-21 22:36:02</td>\n",
       "      <td>1700580962</td>\n",
       "      <td>https://m.facebook.com/photo/view_full_size/?f...</td>\n",
       "      <td>https://scontent.fhan5-2.fna.fbcdn.net/v/t39.3...</td>\n",
       "      <td>[https://m.facebook.com/photo/view_full_size/?...</td>\n",
       "      <td>...</td>\n",
       "      <td>https://www.facebook.com/maythecoffeebewithyou...</td>\n",
       "      <td>{'thích': 1759, 'yêu thích': 396, 'haha': 279,...</td>\n",
       "      <td>2454</td>\n",
       "      <td>None</td>\n",
       "      <td>108356753958620</td>\n",
       "      <td>None</td>\n",
       "      <td>877186490549216</td>\n",
       "      <td>[877186490549216]</td>\n",
       "      <td>False</td>\n",
       "      <td>2023-12-01 11:32:49.844572</td>\n",
       "    </tr>\n",
       "    <tr>\n",
       "      <th>96</th>\n",
       "      <td>877131183888080</td>\n",
       "      <td>Silence please.\\n\\nLàm ơn im lặng.</td>\n",
       "      <td>Silence please.\\n\\nLàm ơn im lặng.</td>\n",
       "      <td></td>\n",
       "      <td>Silence please.</td>\n",
       "      <td>2023-11-21 20:36:05</td>\n",
       "      <td>1700573765</td>\n",
       "      <td>https://scontent.fhan5-8.fna.fbcdn.net/v/t39.3...</td>\n",
       "      <td>https://scontent.fhan5-8.fna.fbcdn.net/v/t39.3...</td>\n",
       "      <td>[https://scontent.fhan5-8.fna.fbcdn.net/v/t39....</td>\n",
       "      <td>...</td>\n",
       "      <td>https://www.facebook.com/maythecoffeebewithyou...</td>\n",
       "      <td>{'thích': 745, 'yêu thích': 88, 'haha': 251, '...</td>\n",
       "      <td>1088</td>\n",
       "      <td>None</td>\n",
       "      <td>108356753958620</td>\n",
       "      <td>None</td>\n",
       "      <td>877131157221416</td>\n",
       "      <td>[877131157221416]</td>\n",
       "      <td>False</td>\n",
       "      <td>2023-12-01 11:33:07.391419</td>\n",
       "    </tr>\n",
       "    <tr>\n",
       "      <th>97</th>\n",
       "      <td>877123583888840</td>\n",
       "      <td>Legit.\\n\\nHợp pháp.</td>\n",
       "      <td>Legit.\\n\\nHợp pháp.</td>\n",
       "      <td></td>\n",
       "      <td>Legit.</td>\n",
       "      <td>2023-11-21 20:19:05</td>\n",
       "      <td>1700572745</td>\n",
       "      <td>https://m.facebook.com/photo/view_full_size/?f...</td>\n",
       "      <td>https://scontent.fhan5-11.fna.fbcdn.net/v/t39....</td>\n",
       "      <td>[https://m.facebook.com/photo/view_full_size/?...</td>\n",
       "      <td>...</td>\n",
       "      <td>https://www.facebook.com/maythecoffeebewithyou...</td>\n",
       "      <td>{'thích': 24485, 'yêu thích': 2743, 'haha': 54...</td>\n",
       "      <td>32959</td>\n",
       "      <td>None</td>\n",
       "      <td>108356753958620</td>\n",
       "      <td>None</td>\n",
       "      <td>877123563888842</td>\n",
       "      <td>[877123563888842]</td>\n",
       "      <td>False</td>\n",
       "      <td>2023-12-01 11:33:18.145352</td>\n",
       "    </tr>\n",
       "    <tr>\n",
       "      <th>98</th>\n",
       "      <td>877095150558350</td>\n",
       "      <td>Mood</td>\n",
       "      <td>Mood</td>\n",
       "      <td></td>\n",
       "      <td>None</td>\n",
       "      <td>2023-11-21 19:06:01</td>\n",
       "      <td>1700568361</td>\n",
       "      <td>https://scontent.fhan5-9.fna.fbcdn.net/v/t39.3...</td>\n",
       "      <td>https://scontent.fhan5-9.fna.fbcdn.net/v/t39.3...</td>\n",
       "      <td>[https://scontent.fhan5-9.fna.fbcdn.net/v/t39....</td>\n",
       "      <td>...</td>\n",
       "      <td>https://www.facebook.com/maythecoffeebewithyou...</td>\n",
       "      <td>{'thích': 1627, 'yêu thích': 210, 'haha': 627,...</td>\n",
       "      <td>2482</td>\n",
       "      <td>None</td>\n",
       "      <td>108356753958620</td>\n",
       "      <td>None</td>\n",
       "      <td>877095120558353</td>\n",
       "      <td>[877095120558353]</td>\n",
       "      <td>False</td>\n",
       "      <td>2023-12-01 11:33:46.004196</td>\n",
       "    </tr>\n",
       "    <tr>\n",
       "      <th>99</th>\n",
       "      <td>877059083895290</td>\n",
       "      <td>Mmmmmmmmmm</td>\n",
       "      <td>Mmmmmmmmmm</td>\n",
       "      <td></td>\n",
       "      <td>None</td>\n",
       "      <td>2023-11-21 17:20:03</td>\n",
       "      <td>1700562003</td>\n",
       "      <td>https://scontent.fhan5-11.fna.fbcdn.net/v/t39....</td>\n",
       "      <td>https://scontent.fhan5-11.fna.fbcdn.net/v/t39....</td>\n",
       "      <td>[https://scontent.fhan5-11.fna.fbcdn.net/v/t39...</td>\n",
       "      <td>...</td>\n",
       "      <td>https://www.facebook.com/maythecoffeebewithyou...</td>\n",
       "      <td>{'thích': 4624, 'yêu thích': 1773, 'haha': 8, ...</td>\n",
       "      <td>6473</td>\n",
       "      <td>None</td>\n",
       "      <td>108356753958620</td>\n",
       "      <td>None</td>\n",
       "      <td>877059053895293</td>\n",
       "      <td>[877059053895293]</td>\n",
       "      <td>False</td>\n",
       "      <td>2023-12-01 11:33:57.604865</td>\n",
       "    </tr>\n",
       "  </tbody>\n",
       "</table>\n",
       "<p>100 rows × 51 columns</p>\n",
       "</div>"
      ],
      "text/plain": [
       "            post_id                                               text  \\\n",
       "0   881937446740787                             Java, West of Krakatoa   \n",
       "1   881916090076256  How do you prefer your coffee?\\n\\nBạn thích cà...   \n",
       "2   881893906745141                          Stay warm!\\n\\nGiữ ấm nhé!   \n",
       "3   881881576746374                                  Valid.\\n\\nHợp lệ.   \n",
       "4   881863260081539                             Isn't that nice? Hmmm?   \n",
       "..              ...                                                ...   \n",
       "95  877186513882547                                               hehe   \n",
       "96  877131183888080                 Silence please.\\n\\nLàm ơn im lặng.   \n",
       "97  877123583888840                                Legit.\\n\\nHợp pháp.   \n",
       "98  877095150558350                                               Mood   \n",
       "99  877059083895290                                         Mmmmmmmmmm   \n",
       "\n",
       "                                            post_text shared_text  \\\n",
       "0                              Java, West of Krakatoa               \n",
       "1   How do you prefer your coffee?\\n\\nBạn thích cà...               \n",
       "2                           Stay warm!\\n\\nGiữ ấm nhé!               \n",
       "3                                   Valid.\\n\\nHợp lệ.               \n",
       "4                              Isn't that nice? Hmmm?               \n",
       "..                                                ...         ...   \n",
       "95                                               hehe               \n",
       "96                 Silence please.\\n\\nLàm ơn im lặng.               \n",
       "97                                Legit.\\n\\nHợp pháp.               \n",
       "98                                               Mood               \n",
       "99                                         Mmmmmmmmmm               \n",
       "\n",
       "                     original_text                time   timestamp  \\\n",
       "0                             None 2023-12-01 10:19:04  1701400744   \n",
       "1   How do you prefer your coffee? 2023-12-01 09:18:11  1701397091   \n",
       "2                       Stay warm! 2023-12-01 08:12:03  1701393123   \n",
       "3                           Valid. 2023-12-01 07:34:50  1701390890   \n",
       "4                             None 2023-12-01 06:35:31  1701387331   \n",
       "..                             ...                 ...         ...   \n",
       "95                            None 2023-11-21 22:36:02  1700580962   \n",
       "96                 Silence please. 2023-11-21 20:36:05  1700573765   \n",
       "97                          Legit. 2023-11-21 20:19:05  1700572745   \n",
       "98                            None 2023-11-21 19:06:01  1700568361   \n",
       "99                            None 2023-11-21 17:20:03  1700562003   \n",
       "\n",
       "                                                image  \\\n",
       "0   https://m.facebook.com/photo/view_full_size/?f...   \n",
       "1   https://m.facebook.com/photo/view_full_size/?f...   \n",
       "2   https://scontent.fhan5-11.fna.fbcdn.net/v/t39....   \n",
       "3   https://scontent.fhan5-1.fna.fbcdn.net/v/t39.3...   \n",
       "4   https://scontent.fhan5-11.fna.fbcdn.net/v/t39....   \n",
       "..                                                ...   \n",
       "95  https://m.facebook.com/photo/view_full_size/?f...   \n",
       "96  https://scontent.fhan5-8.fna.fbcdn.net/v/t39.3...   \n",
       "97  https://m.facebook.com/photo/view_full_size/?f...   \n",
       "98  https://scontent.fhan5-9.fna.fbcdn.net/v/t39.3...   \n",
       "99  https://scontent.fhan5-11.fna.fbcdn.net/v/t39....   \n",
       "\n",
       "                                     image_lowquality  \\\n",
       "0   https://scontent.fhan5-6.fna.fbcdn.net/v/t39.3...   \n",
       "1   https://scontent.fhan5-8.fna.fbcdn.net/v/t39.3...   \n",
       "2   https://scontent.fhan5-11.fna.fbcdn.net/v/t39....   \n",
       "3   https://scontent.fhan5-1.fna.fbcdn.net/v/t39.3...   \n",
       "4   https://scontent.fhan5-11.fna.fbcdn.net/v/t39....   \n",
       "..                                                ...   \n",
       "95  https://scontent.fhan5-2.fna.fbcdn.net/v/t39.3...   \n",
       "96  https://scontent.fhan5-8.fna.fbcdn.net/v/t39.3...   \n",
       "97  https://scontent.fhan5-11.fna.fbcdn.net/v/t39....   \n",
       "98  https://scontent.fhan5-9.fna.fbcdn.net/v/t39.3...   \n",
       "99  https://scontent.fhan5-11.fna.fbcdn.net/v/t39....   \n",
       "\n",
       "                                               images  ...  \\\n",
       "0   [https://m.facebook.com/photo/view_full_size/?...  ...   \n",
       "1   [https://m.facebook.com/photo/view_full_size/?...  ...   \n",
       "2   [https://scontent.fhan5-11.fna.fbcdn.net/v/t39...  ...   \n",
       "3   [https://scontent.fhan5-1.fna.fbcdn.net/v/t39....  ...   \n",
       "4   [https://scontent.fhan5-11.fna.fbcdn.net/v/t39...  ...   \n",
       "..                                                ...  ...   \n",
       "95  [https://m.facebook.com/photo/view_full_size/?...  ...   \n",
       "96  [https://scontent.fhan5-8.fna.fbcdn.net/v/t39....  ...   \n",
       "97  [https://m.facebook.com/photo/view_full_size/?...  ...   \n",
       "98  [https://scontent.fhan5-9.fna.fbcdn.net/v/t39....  ...   \n",
       "99  [https://scontent.fhan5-11.fna.fbcdn.net/v/t39...  ...   \n",
       "\n",
       "                                            w3_fb_url  \\\n",
       "0   https://www.facebook.com/maythecoffeebewithyou...   \n",
       "1   https://www.facebook.com/maythecoffeebewithyou...   \n",
       "2   https://www.facebook.com/maythecoffeebewithyou...   \n",
       "3   https://www.facebook.com/maythecoffeebewithyou...   \n",
       "4   https://www.facebook.com/maythecoffeebewithyou...   \n",
       "..                                                ...   \n",
       "95  https://www.facebook.com/maythecoffeebewithyou...   \n",
       "96  https://www.facebook.com/maythecoffeebewithyou...   \n",
       "97  https://www.facebook.com/maythecoffeebewithyou...   \n",
       "98  https://www.facebook.com/maythecoffeebewithyou...   \n",
       "99  https://www.facebook.com/maythecoffeebewithyou...   \n",
       "\n",
       "                                            reactions reaction_count  with  \\\n",
       "0            {'thích': 40, 'yêu thích': 6, 'haha': 3}             49  None   \n",
       "1   {'thích': 121, 'yêu thích': 21, 'haha': 45, 't...            188  None   \n",
       "2   {'thích': 161, 'yêu thích': 31, 'thương thương...            193  None   \n",
       "3   {'thích': 690, 'yêu thích': 161, 'haha': 139, ...            999  None   \n",
       "4   {'thích': 282, 'yêu thích': 40, 'haha': 82, 't...            407  None   \n",
       "..                                                ...            ...   ...   \n",
       "95  {'thích': 1759, 'yêu thích': 396, 'haha': 279,...           2454  None   \n",
       "96  {'thích': 745, 'yêu thích': 88, 'haha': 251, '...           1088  None   \n",
       "97  {'thích': 24485, 'yêu thích': 2743, 'haha': 54...          32959  None   \n",
       "98  {'thích': 1627, 'yêu thích': 210, 'haha': 627,...           2482  None   \n",
       "99  {'thích': 4624, 'yêu thích': 1773, 'haha': 8, ...           6473  None   \n",
       "\n",
       "            page_id sharers         image_id          image_ids was_live  \\\n",
       "0   108356753958620    None  881937433407455  [881937433407455]    False   \n",
       "1   108356753958620    None  881916076742924  [881916076742924]    False   \n",
       "2   108356753958620    None  881893893411809  [881893893411809]    False   \n",
       "3   108356753958620    None  881881526746379  [881881526746379]    False   \n",
       "4   108356753958620    None  881862436748288  [881862436748288]    False   \n",
       "..              ...     ...              ...                ...      ...   \n",
       "95  108356753958620    None  877186490549216  [877186490549216]    False   \n",
       "96  108356753958620    None  877131157221416  [877131157221416]    False   \n",
       "97  108356753958620    None  877123563888842  [877123563888842]    False   \n",
       "98  108356753958620    None  877095120558353  [877095120558353]    False   \n",
       "99  108356753958620    None  877059053895293  [877059053895293]    False   \n",
       "\n",
       "                 fetched_time  \n",
       "0  2023-12-01 11:09:37.830785  \n",
       "1  2023-12-01 11:09:41.261109  \n",
       "2  2023-12-01 11:09:53.257737  \n",
       "3  2023-12-01 11:10:05.067799  \n",
       "4  2023-12-01 11:10:40.203217  \n",
       "..                        ...  \n",
       "95 2023-12-01 11:32:49.844572  \n",
       "96 2023-12-01 11:33:07.391419  \n",
       "97 2023-12-01 11:33:18.145352  \n",
       "98 2023-12-01 11:33:46.004196  \n",
       "99 2023-12-01 11:33:57.604865  \n",
       "\n",
       "[100 rows x 51 columns]"
      ]
     },
     "execution_count": 28,
     "metadata": {},
     "output_type": "execute_result"
    }
   ],
   "source": [
    "post_df_full"
   ]
  },
  {
   "cell_type": "code",
   "execution_count": null,
   "metadata": {},
   "outputs": [
    {
     "data": {
      "text/plain": [
       "<pandas.core.indexing._iLocIndexer at 0x15a3effe940>"
      ]
     },
     "execution_count": 18,
     "metadata": {},
     "output_type": "execute_result"
    }
   ],
   "source": [
    "post_df_full.iloc(0)"
   ]
  }
 ],
 "metadata": {
  "kernelspec": {
   "display_name": "Python 3",
   "language": "python",
   "name": "python3"
  },
  "language_info": {
   "codemirror_mode": {
    "name": "ipython",
    "version": 3
   },
   "file_extension": ".py",
   "mimetype": "text/x-python",
   "name": "python",
   "nbconvert_exporter": "python",
   "pygments_lexer": "ipython3",
   "version": "3.11.5"
  }
 },
 "nbformat": 4,
 "nbformat_minor": 2
}
